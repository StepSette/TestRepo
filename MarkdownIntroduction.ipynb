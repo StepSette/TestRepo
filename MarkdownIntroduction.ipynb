{
 "cells": [
  {
   "cell_type": "markdown",
   "id": "7cb1e452-59a0-4af4-b13c-c177caedac07",
   "metadata": {},
   "source": [
    "# Headings"
   ]
  },
  {
   "cell_type": "markdown",
   "id": "a09c91ad-d1d2-48c0-96b9-627707499bd3",
   "metadata": {
    "tags": []
   },
   "source": [
    "Use \"#\" before a word or a phrase"
   ]
  },
  {
   "cell_type": "markdown",
   "id": "4d30f0b1-7eee-49ef-8e3b-62a20a1eebd3",
   "metadata": {},
   "source": [
    "- There are 6 levels of headings:\n",
    "- The number sign # indicate the level of heading.\n",
    "    - E.g. #Hello corresponds to level 1, the highest level. "
   ]
  },
  {
   "cell_type": "markdown",
   "id": "71fa17a5-f86a-488d-93b0-033fd4181706",
   "metadata": {},
   "source": [
    "# Practice\n",
    "### Display the following text using different heading levels\n",
    "\n",
    "# H1: This is a level 1 Heading\n",
    "## H2: This is a level 2 Heading\n",
    "### H3: This is a level 3 Heading\n",
    "#### H4: This a level 4 Heading\n",
    "##### H5: This a level 5 Heading \n",
    "###### H6: This a level 6 Heading"
   ]
  },
  {
   "cell_type": "markdown",
   "id": "45201a5d-3f01-459c-81eb-a1ae2317b9ab",
   "metadata": {},
   "source": [
    "# Bold Text"
   ]
  },
  {
   "cell_type": "markdown",
   "id": "eca82279-5d69-4127-81b9-3c31b8c0af02",
   "metadata": {},
   "source": [
    "- You can create bold text by adding two asteriks \"*\" or \"_\" before and after a word, phrase, or a sentence.\n",
    "    - __E.g. esto es importante y debe ser remarcado__"
   ]
  },
  {
   "cell_type": "markdown",
   "id": "fa04d4f9-1596-4f95-b4b5-ee92cd89bb26",
   "metadata": {},
   "source": [
    "#### Practice\n"
   ]
  },
  {
   "cell_type": "markdown",
   "id": "c4e78056-0b8a-4c51-9b4a-777dd1ad97ca",
   "metadata": {},
   "source": [
    "Execute the following text:\n",
    "- ** Bold Text using asteriks**\n",
    "- __Bold Text using underscores__"
   ]
  },
  {
   "cell_type": "markdown",
   "id": "b93fe807-7949-4ca6-af01-e6be146a1735",
   "metadata": {},
   "source": [
    "# Italic Text"
   ]
  },
  {
   "cell_type": "markdown",
   "id": "04e49236-b669-4979-96a2-76922a11a880",
   "metadata": {},
   "source": [
    "You can display text in italics by adding a single asterisk or underscore before and after a word, phrase, or a sentence. "
   ]
  },
  {
   "cell_type": "markdown",
   "id": "42c74860-7db4-40fa-8998-839db2943bb6",
   "metadata": {},
   "source": [
    "### Practice"
   ]
  },
  {
   "cell_type": "markdown",
   "id": "d6827a6e-2bda-4b1b-ab55-9eeb33fedcf7",
   "metadata": {},
   "source": [
    "Execute the following text:"
   ]
  },
  {
   "cell_type": "markdown",
   "id": "87f739ea-956c-40fd-8c3d-0b358f42e608",
   "metadata": {},
   "source": [
    "- *Text in italics using asterisk*\n",
    "- _Text in italics using underscores_"
   ]
  },
  {
   "cell_type": "markdown",
   "id": "33a7c5ea-9e3c-4bab-9c66-472ddd77ef20",
   "metadata": {},
   "source": [
    "# Bold and Italic Text"
   ]
  },
  {
   "cell_type": "markdown",
   "id": "e559c339-c8b4-426c-9970-86e40635c71a",
   "metadata": {},
   "source": [
    "You can display text in both __bold__ and _italic_ style at the same time by adding a three asteriks or underscores before and after a word, phrase or a sentence. "
   ]
  },
  {
   "cell_type": "markdown",
   "id": "fec44cde-7f30-48f5-9f92-c67752a6e12a",
   "metadata": {},
   "source": [
    "### Practice"
   ]
  },
  {
   "cell_type": "markdown",
   "id": "48f41419-2992-4e9c-8ed8-f0c5dc365aaf",
   "metadata": {},
   "source": [
    "- ***Bold and Italic text using asterisks***\n",
    "- ___Bold and Italic text using underscores___"
   ]
  },
  {
   "cell_type": "markdown",
   "id": "2beed584-feda-4918-9d78-0e084b8f159b",
   "metadata": {},
   "source": [
    "# Hyperlinks and Images"
   ]
  },
  {
   "cell_type": "markdown",
   "id": "ecca7b84-27ce-46ad-9c98-1641cae2f6e0",
   "metadata": {},
   "source": [
    "### Hyperlinks\n",
    "- Follow the format:\n",
    "[name of the link](link url)\n",
    "\n",
    "- __Name of the link__ is the clickable link text\n",
    "- __Link url__ is the web address of the url which will be directed on clicking the ling. \n",
    "- To display a clickable link without a name, enclose the link in angle brackets. \n",
    "    -E.g. <https://skills.network/ >\n"
   ]
  },
  {
   "cell_type": "markdown",
   "id": "b999336d-bc47-4845-b3bb-aba7e7c63117",
   "metadata": {},
   "source": [
    "### Practice"
   ]
  },
  {
   "cell_type": "markdown",
   "id": "2a21e944-f042-4cf2-9f71-7ca29cd3a2a8",
   "metadata": {},
   "source": [
    "Create a link to Notion:\n",
    "\n",
    "[Notion](https://www.notion.so/LIFE-9674a01aea5e40dd8553ae39a0748bf0)"
   ]
  },
  {
   "cell_type": "markdown",
   "id": "893a44ed-8e2a-451f-a813-59aa830fbe71",
   "metadata": {},
   "source": [
    "### Images"
   ]
  },
  {
   "cell_type": "markdown",
   "id": "4111eaa7-f07a-4c20-b198-2362c39febf3",
   "metadata": {},
   "source": [
    "Images can be rendered in the following format:\n",
    "\n",
    "Name of the image: ![alt text](PATH)\n"
   ]
  },
  {
   "cell_type": "markdown",
   "id": "87718dad-5580-48bd-a428-124ed8977187",
   "metadata": {},
   "source": [
    "- E.g. LOGO: ![This is the skills network logo](https://cf-courses-data.s3.us.cloud-object-storage.appdomain.cloud/assets/logos/SN_web_lightmode.png)"
   ]
  },
  {
   "cell_type": "markdown",
   "id": "f478a1fc-577d-4305-bcf5-ca4b24f1dfb7",
   "metadata": {},
   "source": [
    "# Create __Tables__ in Markdown"
   ]
  },
  {
   "cell_type": "markdown",
   "id": "c96082c0-7ccb-46dc-96f3-c27a6f86291e",
   "metadata": {},
   "source": [
    "To create tables, use:\n",
    "\n",
    "- __hyphens__ (----) for column headers\n",
    "- __pipes__ | to separate each column\n",
    "- __Text on a new line__ to separate each row"
   ]
  },
  {
   "cell_type": "markdown",
   "id": "f5ef0cab-a129-473d-b0a3-c00a7cbd3f74",
   "metadata": {},
   "source": [
    "E.g. \n",
    "| __Country Name__ | __Capital__ |\n",
    "| ---------------- | ----------- |\n",
    "| USA | D.C. |\n",
    "| Australia | Canberra |\n",
    "| India | New Delhi |\n",
    "| Ecudor | Quito |"
   ]
  },
  {
   "cell_type": "markdown",
   "id": "7b336b45-2d3f-4968-a508-eab9385d971a",
   "metadata": {},
   "source": [
    "# Create ordered and unordered lists in Markdown"
   ]
  },
  {
   "cell_type": "markdown",
   "id": "4ecf711a-9fbf-4a7d-a5e1-1d5db10cd795",
   "metadata": {},
   "source": [
    "### _Unordered_"
   ]
  },
  {
   "cell_type": "markdown",
   "id": "3101c83d-75fe-4232-832a-895ec7c7fd1e",
   "metadata": {},
   "source": [
    "An unordered list is also referred to as a __bulleted list__\n",
    "\n",
    "You can create an unordered list by adding __dashes (-), asteriks (*), or plus sings (+)__ in front of line items. \n",
    "\n",
    "E.g. \n",
    "- First Item\n",
    "* Second Item\n",
    "+ Thrird Item"
   ]
  },
  {
   "cell_type": "markdown",
   "id": "fad13c23-d974-4884-be89-3b4e3f263537",
   "metadata": {},
   "source": [
    "### Practice"
   ]
  },
  {
   "cell_type": "markdown",
   "id": "d9d7ef70-1781-462c-8cac-4b81f82106c0",
   "metadata": {},
   "source": [
    "Configure a shopping list\n",
    "\n",
    "- Groceries\n",
    "    - Peanuts\n",
    "    - Walnuts\n",
    "    - Milk\n",
    "    - Musli\n",
    "    - Bread \n",
    "    - Bananas\n",
    "    - Grapes\n",
    "- Hygine Arts. \n",
    "    - Shampoo\n",
    "    - Conditioner\n",
    "    - Mouthwash\n",
    "    - Handsoap\n",
    "    - Dental floss"
   ]
  },
  {
   "cell_type": "markdown",
   "id": "8f7f674e-f0e1-4001-b0a5-f3e8a81250d2",
   "metadata": {},
   "source": [
    "### _Ordered_"
   ]
  },
  {
   "cell_type": "markdown",
   "id": "65efd492-1acd-4ebc-8855-fef5229d678c",
   "metadata": {},
   "source": [
    "We can create an ordered list by adding line items with __numbers__ followed by __periods__. \n",
    "\n",
    "E.g. \n",
    "\n",
    "1. This is the most important\n",
    "2. This is somewhat important\n",
    "3. This is beginning not to be important\n",
    "4. This just doesn't haha"
   ]
  },
  {
   "cell_type": "markdown",
   "id": "f3374762-251b-4abe-bae0-072ddb540131",
   "metadata": {},
   "source": [
    "### Practice\n"
   ]
  },
  {
   "cell_type": "markdown",
   "id": "93f1eab2-36c4-4796-a46e-e3da95e149e2",
   "metadata": {},
   "source": [
    "Create a range list: Military Ranges (Air Force - Ecuador)"
   ]
  },
  {
   "cell_type": "markdown",
   "id": "83c1dc91-c790-4c44-8d08-815314119b95",
   "metadata": {},
   "source": [
    "1. General del Aire\n",
    "2. Teniente General\n",
    "3. Brigadier General\n",
    "4. Coronel\n",
    "5. Teniente Coronel\n",
    "6. Mayor\n",
    "7. Capitan\n",
    "8. Teniente\n",
    "9. Subteniente\n",
    "10. Sub-oficial Mayor\n",
    "11. Sub-oficial 1ro\n",
    "12. Sub-oficial 2do\n",
    "13. Stgo. 1ro\n",
    "14. Stgo. 2do\n",
    "15. Cabo 1ro\n",
    "16. Cabo 2do\n",
    "17. Soldado"
   ]
  },
  {
   "cell_type": "markdown",
   "id": "22f2c6c4-831e-4055-82ba-00b6f720aaa4",
   "metadata": {},
   "source": [
    "# Practice Exercises"
   ]
  },
  {
   "cell_type": "markdown",
   "id": "585587bd-72e8-48af-8649-d0fc51e46a7a",
   "metadata": {},
   "source": [
    "Demonstrate your proficiency in using _Markdown_ in __Jupyter Notebooks__\n",
    "\n",
    "- Task 1: Create __H2 level heading__ as __Welcome to Python programming__ and add the image from the following __url__ with alt text as __This is SN labs New Launcher__"
   ]
  },
  {
   "cell_type": "markdown",
   "id": "8b2785a0-7d1e-40ac-82f8-707cb0a7628f",
   "metadata": {},
   "source": [
    "## Welcome to Python Programming "
   ]
  },
  {
   "cell_type": "markdown",
   "id": "4317f8b3-e059-423e-8de0-a5dcccbfa9a5",
   "metadata": {},
   "source": [
    "![This is SN labs New Launcher](https://cf-courses-data.s3.us.cloud-object-storage.appdomain.cloud/IBMDeveloperSkillsNetwork-DS0105EN-SkillsNetwork/labs/Labs_V4/images/Launcher.png)"
   ]
  },
  {
   "cell_type": "markdown",
   "id": "aaddc14d-08b2-4bb9-826e-be47f80bf8f9",
   "metadata": {},
   "source": [
    "- Task 2: Create a hyperlink to __Coursera__ with the __Name of the link__ as __\"Tools for Data Science\".__"
   ]
  },
  {
   "cell_type": "markdown",
   "id": "c12b3e13-ea4d-4d4e-82fb-ba9c60382cbe",
   "metadata": {},
   "source": [
    "[Tools for Data Science](https://wwww.coursera.org/learn/open-source-tools-for-data-science/home)"
   ]
  },
  {
   "cell_type": "markdown",
   "id": "ea5fcea8-76ee-4ffc-ae07-3a113349b591",
   "metadata": {},
   "source": [
    "- Task 3: Create the following table."
   ]
  },
  {
   "cell_type": "markdown",
   "id": "34368f9a-49a2-4215-a28d-6adb36800851",
   "metadata": {},
   "source": [
    "| Fruits | Quantity(Kg) | Price (in USD) |\n",
    "| ------ | ------------ | -------------- |\n",
    "| Apple | 2 | 3.50 |\n",
    "| Orange | 1 | 2.00 |\n",
    "| Mango | 3 | 10.00 |\n",
    "| Grapes | 2 | 5.00 |"
   ]
  },
  {
   "cell_type": "markdown",
   "id": "f0c8aba6-7437-42a8-96ad-37108aabf31b",
   "metadata": {},
   "source": [
    "- Task 4: Create the following ordered list."
   ]
  },
  {
   "cell_type": "markdown",
   "id": "2d0d13f8-f91b-4c52-b84e-31c5d5515ed9",
   "metadata": {},
   "source": [
    "1. Python\n",
    "2. Java\n",
    "3. C++\n",
    "4. C"
   ]
  },
  {
   "cell_type": "markdown",
   "id": "1e5eb275-b9e0-4ae1-9d4f-d2d552800f33",
   "metadata": {},
   "source": [
    "# Markdown _cheatsheet_"
   ]
  },
  {
   "cell_type": "markdown",
   "id": "6d8136e8-2a74-42e0-ad08-a377dfb5f8ed",
   "metadata": {},
   "source": [
    "[Find out more...](https://github.com/adam-p/markdown-here/wiki/Markdown-Cheatsheet)"
   ]
  }
 ],
 "metadata": {
  "kernelspec": {
   "display_name": "Python 3 (ipykernel)",
   "language": "python",
   "name": "python3"
  },
  "language_info": {
   "codemirror_mode": {
    "name": "ipython",
    "version": 3
   },
   "file_extension": ".py",
   "mimetype": "text/x-python",
   "name": "python",
   "nbconvert_exporter": "python",
   "pygments_lexer": "ipython3",
   "version": "3.11.5"
  }
 },
 "nbformat": 4,
 "nbformat_minor": 5
}
