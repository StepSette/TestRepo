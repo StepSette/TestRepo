{
 "cells": [
  {
   "cell_type": "markdown",
   "id": "68d387e5-a3e0-47ea-9237-f063f0f11082",
   "metadata": {},
   "source": [
    "Exercise 2: Create a markdown cell with title of the notebook. "
   ]
  },
  {
   "cell_type": "markdown",
   "id": "5606651a-5964-4f25-bb44-fa315954e62d",
   "metadata": {},
   "source": [
    "# Data Science Tools and Ecosystem "
   ]
  },
  {
   "cell_type": "markdown",
   "id": "21de05e4-cfaa-4fe4-bfd3-0e96b878f283",
   "metadata": {},
   "source": [
    "Exercise 3: Create a markdown cell for an introduction."
   ]
  },
  {
   "cell_type": "markdown",
   "id": "4326c37f-a64b-47d0-bd29-09d8e6987863",
   "metadata": {},
   "source": [
    "In this notebook, Data Science Tools and Ecosystem are summarized all course's content. By approaching pragmatic use of it I plan demonstrating all I've learnt so far.\n",
    "To whom may be reviewing this: please add any coment, I'll be glad to have some feedback to stay motivated and learning in community."
   ]
  },
  {
   "cell_type": "markdown",
   "id": "617617bb-d3f7-454e-8731-eb818392888b",
   "metadata": {},
   "source": [
    "Exercise 10: Insert a markdown cell to list Objectives."
   ]
  },
  {
   "cell_type": "markdown",
   "id": "5c521446-f502-40ee-939f-1a83422e22ef",
   "metadata": {},
   "source": [
    "## __Objectives:__\n",
    "\n",
    "- Being able to list the most used languages for Data Science.\n",
    "- Talk about the libraries and other tools that a data scientist will use to perform tasks.\n",
    "- Produce basic code to get a hold of what's to come as a data scientist.\n",
    "- Get to know code asset managment tools. "
   ]
  },
  {
   "cell_type": "markdown",
   "id": "88568759-ed31-4b54-9947-8792a3425ad1",
   "metadata": {},
   "source": [
    "Exercise 4: Create a markdown cell to list data science languages."
   ]
  },
  {
   "cell_type": "markdown",
   "id": "4af7d843-523f-4a5c-87ef-ebf33fbe13c8",
   "metadata": {},
   "source": [
    "Some of the popular languages that Data Scientists use are:\n",
    "\n",
    "1. Python\n",
    "2. R\n",
    "3. Julia\n",
    "4. Java\n",
    "5. JavaScript\n",
    "6. C++"
   ]
  },
  {
   "cell_type": "markdown",
   "id": "80cbfc37-ec66-413f-abed-b3a0ec0a9252",
   "metadata": {},
   "source": [
    "Exercise 5: Create a markdown cell to list data science libraries."
   ]
  },
  {
   "cell_type": "markdown",
   "id": "59e81ead-3a82-49dc-ba23-148ae40269fc",
   "metadata": {},
   "source": [
    "Some of the commonly used libraries by Data Scientists include:\n",
    "\n",
    "- Python\n",
    "  1. Pandas\n",
    "  2. Numpy\n",
    "  3. Matplotlib\n",
    "  4. Scipy\n",
    "  5. Seaborn\n",
    "  6. Keras\n",
    "  7. Scikit-learn\n",
    "- R\n",
    "  1. ggplot2\n",
    "  2. caret\n",
    "  3. plyr"
   ]
  },
  {
   "cell_type": "markdown",
   "id": "883999b4-3db5-4525-b28e-9f37e42b8cba",
   "metadata": {},
   "source": [
    "Exercise 6: Create a markdown cell with a table of Data Science tools. "
   ]
  },
  {
   "cell_type": "markdown",
   "id": "207a080e-67ac-4c46-9433-a9e6ac1d06d9",
   "metadata": {},
   "source": [
    "| Data Science Tools |\n",
    "| ---|\n",
    "| Anaconda |\n",
    "| JupyterLab |\n",
    "| Git |\n",
    "| RStudio |\n",
    "| VS Code |"
   ]
  },
  {
   "cell_type": "markdown",
   "id": "9d12f005-78b6-4c53-98ba-8b022eb5f117",
   "metadata": {},
   "source": [
    "Exercise 7: Create a markdown cell introducing arithmetic expression examples."
   ]
  },
  {
   "cell_type": "markdown",
   "id": "07cdfdc6-b675-4a15-9971-a6642d5d9d8e",
   "metadata": {},
   "source": [
    "### Below are a few examples of evaluating arithmetic expressions in Python. \n",
    "\n",
    "- _Addition_\n",
    "    7 + 5 = 12\n",
    "  \n",
    "- _Substraction_\n",
    "    9 - 6 = 3\n",
    "\n",
    "- _Multiplication_\n",
    "    10 * 3 = 30\n",
    "\n",
    "- _Division_\n",
    "    90 / 30 = 3"
   ]
  },
  {
   "cell_type": "markdown",
   "id": "a0311405-834c-40dc-bdfe-8c4b0f8f3d79",
   "metadata": {},
   "source": [
    "Exercise 8: Create a code cell to multiply and add numbers. "
   ]
  },
  {
   "cell_type": "code",
   "execution_count": 6,
   "id": "6a92017b-477c-4a40-9fad-bfb62060a042",
   "metadata": {},
   "outputs": [
    {
     "name": "stdout",
     "output_type": "stream",
     "text": [
      "17\n"
     ]
    }
   ],
   "source": [
    "# The following function will receive three variables. Will first multiply two of them and then add the third. \n",
    "\n",
    "x = 3\n",
    "y = 4\n",
    "z = 5\n",
    "\n",
    "def mna(x, y, z):\n",
    "    op = (x*y)+z\n",
    "    return(op)\n",
    "\n",
    "result = mna(x, y, z)\n",
    "print(result)"
   ]
  },
  {
   "cell_type": "markdown",
   "id": "61386aa1-9f10-4383-ba53-5a0045979703",
   "metadata": {},
   "source": [
    "Exercise 9: Create a code cell to convert minutes to hours. "
   ]
  },
  {
   "cell_type": "code",
   "execution_count": 7,
   "id": "8239bb0b-e932-4ee0-83a0-ab8153d42838",
   "metadata": {},
   "outputs": [
    {
     "name": "stdout",
     "output_type": "stream",
     "text": [
      "3.3333333333333335\n"
     ]
    }
   ],
   "source": [
    "# This function is a minute-hour converter\n",
    "\n",
    "x = 200 # minutes, number to be converted\n",
    "y = 60 # minutes that is equivalent to 1 hour\n",
    "\n",
    "def conv(x, y):\n",
    "    op = x / y\n",
    "    return(op)\n",
    "\n",
    "result = conv(x, y)\n",
    "print(result)"
   ]
  },
  {
   "cell_type": "markdown",
   "id": "07b98ae0-720f-4de1-abee-d328d2e58cdf",
   "metadata": {},
   "source": [
    "Create a markdown cell to indicate the Author's name."
   ]
  },
  {
   "cell_type": "markdown",
   "id": "de4beff6-b48d-492e-bc39-1ac659b35156",
   "metadata": {},
   "source": [
    "## Author:\n",
    "\n",
    "Stefano Arboleda"
   ]
  }
 ],
 "metadata": {
  "kernelspec": {
   "display_name": "Python 3 (ipykernel)",
   "language": "python",
   "name": "python3"
  },
  "language_info": {
   "codemirror_mode": {
    "name": "ipython",
    "version": 3
   },
   "file_extension": ".py",
   "mimetype": "text/x-python",
   "name": "python",
   "nbconvert_exporter": "python",
   "pygments_lexer": "ipython3",
   "version": "3.11.5"
  }
 },
 "nbformat": 4,
 "nbformat_minor": 5
}
